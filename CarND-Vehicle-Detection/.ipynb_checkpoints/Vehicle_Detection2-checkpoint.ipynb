{
 "cells": [
  {
   "cell_type": "code",
   "execution_count": 1,
   "metadata": {},
   "outputs": [],
   "source": [
    "import numpy as np\n",
    "import cv2\n",
    "import matplotlib.pyplot as plt\n",
    "import matplotlib.image as mpimg\n",
    "from sklearn.preprocessing import StandardScaler\n",
    "from sklearn.model_selection import train_test_split, GridSearchCV\n",
    "from sklearn.svm import LinearSVC, SVC\n",
    "import glob\n",
    "import os\n",
    "import time\n",
    "import pickle\n",
    "\n",
    "#import classifier\n",
    "import features\n",
    "import utils\n",
    "import search\n",
    "import viz\n",
    "import detection\n",
    "%matplotlib inline"
   ]
  },
  {
   "cell_type": "code",
   "execution_count": 2,
   "metadata": {
    "collapsed": true
   },
   "outputs": [],
   "source": [
    "#### Feature Extraction Parameters #######\n",
    "\n",
    "color_space = 'HSV' # Can be RGB, HSV, LUV, HLS, YUV, YCrCb\n",
    "orient = 9  # HOG orientations typical values 6-12\n",
    "pix_per_cell = 8 # HOG pixels per cell\n",
    "cell_per_block = 2 # HOG cells per block\n",
    "hog_channel = 0# 'ALL' # Can be 0, 1, 2, or \"ALL\" (vis must be False)\n",
    "spatial_size = (32, 32) # Spatial binning dimensions\n",
    "hist_bins = 32    # Number of histogram bins\n",
    "spatial_feat = True # Spatial features on or off\n",
    "hist_feat = True # Histogram features on or off\n",
    "hog_feat = True # HOG features on or off\n",
    "y_start_stop = [None, None] # Min and max in y to search in slide_window()\n"
   ]
  },
  {
   "cell_type": "code",
   "execution_count": 3,
   "metadata": {},
   "outputs": [],
   "source": [
    "# Load SVC Classifier\n",
    "#pickle.dump(dist_pickle, open(\"svc_pickle.p\", \"wb\"))\n",
    "\n",
    "dist_pickle = pickle.load(open('svc_pickle.p', 'rb'))\n",
    "\n",
    "\n",
    "svc = dist_pickle['svc'] \n",
    "X_scaler = dist_pickle['X_scaler'] \n",
    "orient = dist_pickle['orient']  \n",
    "pix_per_cell = dist_pickle['pix_per_cell'] \n",
    "cell_per_block = dist_pickle['cell_per_block']\n",
    "spatial_size = dist_pickle['spatial_size'] \n",
    "hist_bins = dist_pickle['hist_bins'] \n"
   ]
  },
  {
   "cell_type": "code",
   "execution_count": 4,
   "metadata": {
    "collapsed": true
   },
   "outputs": [],
   "source": [
    "## Step 4: Develop window search algorithm "
   ]
  },
  {
   "cell_type": "code",
   "execution_count": 5,
   "metadata": {
    "collapsed": true
   },
   "outputs": [],
   "source": [
    "searchpath = 'test_images/*'\n",
    "example_images = glob.glob(searchpath)"
   ]
  },
  {
   "cell_type": "code",
   "execution_count": 6,
   "metadata": {},
   "outputs": [
    {
     "name": "stderr",
     "output_type": "stream",
     "text": [
      "/home/demo/anaconda3/envs/py36/lib/python3.6/site-packages/skimage/feature/_hog.py:119: skimage_deprecation: Default value of `block_norm`==`L1` is deprecated and will be changed to `L2-Hys` in v0.15\n",
      "  'be changed to `L2-Hys` in v0.15', skimage_deprecation)\n"
     ]
    },
    {
     "name": "stdout",
     "output_type": "stream",
     "text": [
      "51.20150637626648 seconds to process one image searching 2376 windows\n"
     ]
    },
    {
     "ename": "KeyboardInterrupt",
     "evalue": "",
     "output_type": "error",
     "traceback": [
      "\u001b[0;31m---------------------------------------------------------------------------\u001b[0m",
      "\u001b[0;31mKeyboardInterrupt\u001b[0m                         Traceback (most recent call last)",
      "\u001b[0;32m<ipython-input-6-cb793e3da5c7>\u001b[0m in \u001b[0;36m<module>\u001b[0;34m()\u001b[0m\n\u001b[1;32m     22\u001b[0m                                  \u001b[0mcell_per_block\u001b[0m\u001b[0;34m=\u001b[0m\u001b[0mcell_per_block\u001b[0m\u001b[0;34m,\u001b[0m\u001b[0;34m\u001b[0m\u001b[0m\n\u001b[1;32m     23\u001b[0m                                  \u001b[0mhog_channel\u001b[0m\u001b[0;34m=\u001b[0m\u001b[0mhog_channel\u001b[0m\u001b[0;34m,\u001b[0m \u001b[0mspatial_feat\u001b[0m\u001b[0;34m=\u001b[0m\u001b[0mspatial_feat\u001b[0m\u001b[0;34m,\u001b[0m \u001b[0mhist_feat\u001b[0m\u001b[0;34m=\u001b[0m\u001b[0mhist_feat\u001b[0m\u001b[0;34m,\u001b[0m\u001b[0;34m\u001b[0m\u001b[0m\n\u001b[0;32m---> 24\u001b[0;31m                                  hog_feat=hog_feat)\n\u001b[0m\u001b[1;32m     25\u001b[0m \u001b[0;34m\u001b[0m\u001b[0m\n\u001b[1;32m     26\u001b[0m     \u001b[0mwindow_img\u001b[0m \u001b[0;34m=\u001b[0m \u001b[0mviz\u001b[0m\u001b[0;34m.\u001b[0m\u001b[0mdraw_boxes\u001b[0m\u001b[0;34m(\u001b[0m\u001b[0mdraw_img\u001b[0m\u001b[0;34m,\u001b[0m \u001b[0mhot_windows\u001b[0m\u001b[0;34m,\u001b[0m \u001b[0mcolor\u001b[0m\u001b[0;34m=\u001b[0m\u001b[0;34m(\u001b[0m\u001b[0;36m0\u001b[0m\u001b[0;34m,\u001b[0m \u001b[0;36m0\u001b[0m\u001b[0;34m,\u001b[0m \u001b[0;36m255\u001b[0m\u001b[0;34m)\u001b[0m\u001b[0;34m,\u001b[0m \u001b[0mthick\u001b[0m\u001b[0;34m=\u001b[0m\u001b[0;36m6\u001b[0m\u001b[0;34m)\u001b[0m\u001b[0;34m\u001b[0m\u001b[0m\n",
      "\u001b[0;32m/home/demo/code/SelfDrivingCars/CarND-Vehicle-Detection/search.py\u001b[0m in \u001b[0;36msearch_windows\u001b[0;34m(img, windows, clf, scaler, color_space, spatial_size, hist_bins, orient, pix_per_cell, cell_per_block, hog_channel, spatial_feat, hist_feat, hog_feat)\u001b[0m\n\u001b[1;32m    110\u001b[0m \u001b[0;34m\u001b[0m\u001b[0m\n\u001b[1;32m    111\u001b[0m         \u001b[0;31m# 6) Predict using your classifier\u001b[0m\u001b[0;34m\u001b[0m\u001b[0;34m\u001b[0m\u001b[0m\n\u001b[0;32m--> 112\u001b[0;31m         \u001b[0mprediction\u001b[0m \u001b[0;34m=\u001b[0m \u001b[0mclf\u001b[0m\u001b[0;34m.\u001b[0m\u001b[0mpredict\u001b[0m\u001b[0;34m(\u001b[0m\u001b[0mtest_features\u001b[0m\u001b[0;34m)\u001b[0m\u001b[0;34m\u001b[0m\u001b[0m\n\u001b[0m\u001b[1;32m    113\u001b[0m \u001b[0;34m\u001b[0m\u001b[0m\n\u001b[1;32m    114\u001b[0m         \u001b[0;31m# 7) If positive (prediction == 1) then save the window\u001b[0m\u001b[0;34m\u001b[0m\u001b[0;34m\u001b[0m\u001b[0m\n",
      "\u001b[0;32m/home/demo/anaconda3/envs/py36/lib/python3.6/site-packages/sklearn/svm/base.py\u001b[0m in \u001b[0;36mpredict\u001b[0;34m(self, X)\u001b[0m\n\u001b[1;32m    571\u001b[0m             \u001b[0mClass\u001b[0m \u001b[0mlabels\u001b[0m \u001b[0;32mfor\u001b[0m \u001b[0msamples\u001b[0m \u001b[0;32min\u001b[0m \u001b[0mX\u001b[0m\u001b[0;34m.\u001b[0m\u001b[0;34m\u001b[0m\u001b[0m\n\u001b[1;32m    572\u001b[0m         \"\"\"\n\u001b[0;32m--> 573\u001b[0;31m         \u001b[0my\u001b[0m \u001b[0;34m=\u001b[0m \u001b[0msuper\u001b[0m\u001b[0;34m(\u001b[0m\u001b[0mBaseSVC\u001b[0m\u001b[0;34m,\u001b[0m \u001b[0mself\u001b[0m\u001b[0;34m)\u001b[0m\u001b[0;34m.\u001b[0m\u001b[0mpredict\u001b[0m\u001b[0;34m(\u001b[0m\u001b[0mX\u001b[0m\u001b[0;34m)\u001b[0m\u001b[0;34m\u001b[0m\u001b[0m\n\u001b[0m\u001b[1;32m    574\u001b[0m         \u001b[0;32mreturn\u001b[0m \u001b[0mself\u001b[0m\u001b[0;34m.\u001b[0m\u001b[0mclasses_\u001b[0m\u001b[0;34m.\u001b[0m\u001b[0mtake\u001b[0m\u001b[0;34m(\u001b[0m\u001b[0mnp\u001b[0m\u001b[0;34m.\u001b[0m\u001b[0masarray\u001b[0m\u001b[0;34m(\u001b[0m\u001b[0my\u001b[0m\u001b[0;34m,\u001b[0m \u001b[0mdtype\u001b[0m\u001b[0;34m=\u001b[0m\u001b[0mnp\u001b[0m\u001b[0;34m.\u001b[0m\u001b[0mintp\u001b[0m\u001b[0;34m)\u001b[0m\u001b[0;34m)\u001b[0m\u001b[0;34m\u001b[0m\u001b[0m\n\u001b[1;32m    575\u001b[0m \u001b[0;34m\u001b[0m\u001b[0m\n",
      "\u001b[0;32m/home/demo/anaconda3/envs/py36/lib/python3.6/site-packages/sklearn/svm/base.py\u001b[0m in \u001b[0;36mpredict\u001b[0;34m(self, X)\u001b[0m\n\u001b[1;32m    310\u001b[0m         \u001b[0mX\u001b[0m \u001b[0;34m=\u001b[0m \u001b[0mself\u001b[0m\u001b[0;34m.\u001b[0m\u001b[0m_validate_for_predict\u001b[0m\u001b[0;34m(\u001b[0m\u001b[0mX\u001b[0m\u001b[0;34m)\u001b[0m\u001b[0;34m\u001b[0m\u001b[0m\n\u001b[1;32m    311\u001b[0m         \u001b[0mpredict\u001b[0m \u001b[0;34m=\u001b[0m \u001b[0mself\u001b[0m\u001b[0;34m.\u001b[0m\u001b[0m_sparse_predict\u001b[0m \u001b[0;32mif\u001b[0m \u001b[0mself\u001b[0m\u001b[0;34m.\u001b[0m\u001b[0m_sparse\u001b[0m \u001b[0;32melse\u001b[0m \u001b[0mself\u001b[0m\u001b[0;34m.\u001b[0m\u001b[0m_dense_predict\u001b[0m\u001b[0;34m\u001b[0m\u001b[0m\n\u001b[0;32m--> 312\u001b[0;31m         \u001b[0;32mreturn\u001b[0m \u001b[0mpredict\u001b[0m\u001b[0;34m(\u001b[0m\u001b[0mX\u001b[0m\u001b[0;34m)\u001b[0m\u001b[0;34m\u001b[0m\u001b[0m\n\u001b[0m\u001b[1;32m    313\u001b[0m \u001b[0;34m\u001b[0m\u001b[0m\n\u001b[1;32m    314\u001b[0m     \u001b[0;32mdef\u001b[0m \u001b[0m_dense_predict\u001b[0m\u001b[0;34m(\u001b[0m\u001b[0mself\u001b[0m\u001b[0;34m,\u001b[0m \u001b[0mX\u001b[0m\u001b[0;34m)\u001b[0m\u001b[0;34m:\u001b[0m\u001b[0;34m\u001b[0m\u001b[0m\n",
      "\u001b[0;32m/home/demo/anaconda3/envs/py36/lib/python3.6/site-packages/sklearn/svm/base.py\u001b[0m in \u001b[0;36m_dense_predict\u001b[0;34m(self, X)\u001b[0m\n\u001b[1;32m    333\u001b[0m             \u001b[0mself\u001b[0m\u001b[0;34m.\u001b[0m\u001b[0mprobA_\u001b[0m\u001b[0;34m,\u001b[0m \u001b[0mself\u001b[0m\u001b[0;34m.\u001b[0m\u001b[0mprobB_\u001b[0m\u001b[0;34m,\u001b[0m \u001b[0msvm_type\u001b[0m\u001b[0;34m=\u001b[0m\u001b[0msvm_type\u001b[0m\u001b[0;34m,\u001b[0m \u001b[0mkernel\u001b[0m\u001b[0;34m=\u001b[0m\u001b[0mkernel\u001b[0m\u001b[0;34m,\u001b[0m\u001b[0;34m\u001b[0m\u001b[0m\n\u001b[1;32m    334\u001b[0m             \u001b[0mdegree\u001b[0m\u001b[0;34m=\u001b[0m\u001b[0mself\u001b[0m\u001b[0;34m.\u001b[0m\u001b[0mdegree\u001b[0m\u001b[0;34m,\u001b[0m \u001b[0mcoef0\u001b[0m\u001b[0;34m=\u001b[0m\u001b[0mself\u001b[0m\u001b[0;34m.\u001b[0m\u001b[0mcoef0\u001b[0m\u001b[0;34m,\u001b[0m \u001b[0mgamma\u001b[0m\u001b[0;34m=\u001b[0m\u001b[0mself\u001b[0m\u001b[0;34m.\u001b[0m\u001b[0m_gamma\u001b[0m\u001b[0;34m,\u001b[0m\u001b[0;34m\u001b[0m\u001b[0m\n\u001b[0;32m--> 335\u001b[0;31m             cache_size=self.cache_size)\n\u001b[0m\u001b[1;32m    336\u001b[0m \u001b[0;34m\u001b[0m\u001b[0m\n\u001b[1;32m    337\u001b[0m     \u001b[0;32mdef\u001b[0m \u001b[0m_sparse_predict\u001b[0m\u001b[0;34m(\u001b[0m\u001b[0mself\u001b[0m\u001b[0;34m,\u001b[0m \u001b[0mX\u001b[0m\u001b[0;34m)\u001b[0m\u001b[0;34m:\u001b[0m\u001b[0;34m\u001b[0m\u001b[0m\n",
      "\u001b[0;31mKeyboardInterrupt\u001b[0m: "
     ]
    }
   ],
   "source": [
    "images = []\n",
    "titles = []\n",
    "#y_start_stop = [None, None]  # Min and max in y to search in slide_window(). Trees tops caused false positives\n",
    "y_start_stop = [400, 656]  # Min and max in y to search in slide_window(). Trees tops caused false positives\n",
    "overlap = 0.9  # 50% overlap\n",
    "window_size = 96\n",
    "\n",
    "for img_src in example_images:\n",
    "    t1 = time.time()\n",
    "    img = mpimg.imread(img_src)\n",
    "    draw_img = np.copy(img)\n",
    "    img = img.astype(np.float32) / 255  # IMPORTANT : reading *.jpeg's (scaled 0-255), but trained on *.png's (scaled 0-1)\n",
    "\n",
    "    assert 0 <= np.min(img) <= 1.0 and 0<= np.max(img) <= 1\n",
    "\n",
    "    windows = search.slide_window(img.shape, x_start_stop=[None, None], y_start_stop=y_start_stop,\n",
    "                           xy_window=(window_size, window_size), xy_overlap=(overlap, overlap))  # window size multiples of 32\n",
    "\n",
    "    hot_windows = search.search_windows(img, windows, svc, X_scaler, color_space=color_space,\n",
    "                                 spatial_size=spatial_size, hist_bins=hist_bins,\n",
    "                                 orient=orient, pix_per_cell=pix_per_cell,\n",
    "                                 cell_per_block=cell_per_block,\n",
    "                                 hog_channel=hog_channel, spatial_feat=spatial_feat, hist_feat=hist_feat,\n",
    "                                 hog_feat=hog_feat)\n",
    "\n",
    "    window_img = viz.draw_boxes(draw_img, hot_windows, color=(0, 0, 255), thick=6)\n",
    "    images.append(window_img)\n",
    "    titles.append('')\n",
    "    print(time.time() - t1, 'seconds to process one image searching', len(windows), 'windows')\n",
    "\n",
    "#fig = plt.figure(figsize=(12, 18), dpi=300)\n",
    "#viz.visualize(5, 2, images, titles)\n",
    "\n"
   ]
  },
  {
   "cell_type": "code",
   "execution_count": 6,
   "metadata": {
    "scrolled": false
   },
   "outputs": [
    {
     "ename": "NameError",
     "evalue": "name 'images' is not defined",
     "output_type": "error",
     "traceback": [
      "\u001b[0;31m---------------------------------------------------------------------------\u001b[0m",
      "\u001b[0;31mNameError\u001b[0m                                 Traceback (most recent call last)",
      "\u001b[0;32m<ipython-input-6-4714c2f94602>\u001b[0m in \u001b[0;36m<module>\u001b[0;34m()\u001b[0m\n\u001b[0;32m----> 1\u001b[0;31m \u001b[0;32mfor\u001b[0m \u001b[0mi\u001b[0m\u001b[0;34m,\u001b[0m \u001b[0mimg\u001b[0m \u001b[0;32min\u001b[0m \u001b[0menumerate\u001b[0m\u001b[0;34m(\u001b[0m\u001b[0mimages\u001b[0m\u001b[0;34m)\u001b[0m\u001b[0;34m:\u001b[0m\u001b[0;34m\u001b[0m\u001b[0m\n\u001b[0m\u001b[1;32m      2\u001b[0m         \u001b[0mprint\u001b[0m\u001b[0;34m(\u001b[0m\u001b[0mi\u001b[0m\u001b[0;34m)\u001b[0m\u001b[0;34m\u001b[0m\u001b[0m\n\u001b[1;32m      3\u001b[0m         \u001b[0mfig\u001b[0m \u001b[0;34m=\u001b[0m \u001b[0mplt\u001b[0m\u001b[0;34m.\u001b[0m\u001b[0mfigure\u001b[0m\u001b[0;34m(\u001b[0m\u001b[0mfigsize\u001b[0m\u001b[0;34m=\u001b[0m\u001b[0;34m(\u001b[0m\u001b[0;36m12\u001b[0m\u001b[0;34m,\u001b[0m \u001b[0;36m18\u001b[0m\u001b[0;34m)\u001b[0m\u001b[0;34m,\u001b[0m \u001b[0mdpi\u001b[0m\u001b[0;34m=\u001b[0m\u001b[0;36m300\u001b[0m\u001b[0;34m)\u001b[0m\u001b[0;34m\u001b[0m\u001b[0m\n\u001b[1;32m      4\u001b[0m         \u001b[0mplt\u001b[0m\u001b[0;34m.\u001b[0m\u001b[0mtitle\u001b[0m\u001b[0;34m(\u001b[0m\u001b[0mi\u001b[0m \u001b[0;34m+\u001b[0m \u001b[0;36m1\u001b[0m\u001b[0;34m)\u001b[0m\u001b[0;34m\u001b[0m\u001b[0m\n\u001b[1;32m      5\u001b[0m         \u001b[0mimg_dims\u001b[0m \u001b[0;34m=\u001b[0m \u001b[0mlen\u001b[0m\u001b[0;34m(\u001b[0m\u001b[0mimg\u001b[0m\u001b[0;34m.\u001b[0m\u001b[0mshape\u001b[0m\u001b[0;34m)\u001b[0m\u001b[0;34m\u001b[0m\u001b[0m\n",
      "\u001b[0;31mNameError\u001b[0m: name 'images' is not defined"
     ]
    }
   ],
   "source": [
    "for i, img in enumerate(images):\n",
    "        print(i)\n",
    "        fig = plt.figure(figsize=(12, 18), dpi=300)\n",
    "        plt.title(i + 1)\n",
    "        img_dims = len(img.shape)\n",
    "        plt.imshow(img, cmap='hot')\n",
    "        plt.title(titles[i])\n",
    "        "
   ]
  },
  {
   "cell_type": "code",
   "execution_count": 6,
   "metadata": {},
   "outputs": [
    {
     "name": "stderr",
     "output_type": "stream",
     "text": [
      "/home/demo/anaconda3/envs/py36/lib/python3.6/site-packages/skimage/feature/_hog.py:119: skimage_deprecation: Default value of `block_norm`==`L1` is deprecated and will be changed to `L2-Hys` in v0.15\n",
      "  'be changed to `L2-Hys` in v0.15', skimage_deprecation)\n"
     ]
    },
    {
     "ename": "NameError",
     "evalue": "name 'X_scaler' is not defined",
     "output_type": "error",
     "traceback": [
      "\u001b[0;31m---------------------------------------------------------------------------\u001b[0m",
      "\u001b[0;31mNameError\u001b[0m                                 Traceback (most recent call last)",
      "\u001b[0;32m<ipython-input-6-743dcaa20d1e>\u001b[0m in \u001b[0;36m<module>\u001b[0;34m()\u001b[0m\n\u001b[1;32m     18\u001b[0m     \u001b[0mt1\u001b[0m \u001b[0;34m=\u001b[0m \u001b[0mtime\u001b[0m\u001b[0;34m.\u001b[0m\u001b[0mtime\u001b[0m\u001b[0;34m(\u001b[0m\u001b[0;34m)\u001b[0m\u001b[0;34m\u001b[0m\u001b[0m\n\u001b[1;32m     19\u001b[0m     draw_img, img_boxes, heatmap = search.find_cars(img, scale, ystart, ystop, pix_per_cell, orient, cell_per_block, \n\u001b[0;32m---> 20\u001b[0;31m                                                     spatial_size, hist_bins, svc)\n\u001b[0m\u001b[1;32m     21\u001b[0m     \u001b[0mprint\u001b[0m\u001b[0;34m(\u001b[0m\u001b[0mtime\u001b[0m\u001b[0;34m.\u001b[0m\u001b[0mtime\u001b[0m\u001b[0;34m(\u001b[0m\u001b[0;34m)\u001b[0m \u001b[0;34m-\u001b[0m \u001b[0mt\u001b[0m\u001b[0;34m,\u001b[0m \u001b[0;34m'seconds to run, total windows = '\u001b[0m\u001b[0;34m,\u001b[0m \u001b[0mcount\u001b[0m\u001b[0;34m)\u001b[0m\u001b[0;34m\u001b[0m\u001b[0m\n\u001b[1;32m     22\u001b[0m \u001b[0;34m\u001b[0m\u001b[0m\n",
      "\u001b[0;32m/home/demo/code/SelfDrivingCars/CarND-Vehicle-Detection/search.py\u001b[0m in \u001b[0;36mfind_cars\u001b[0;34m(img, scale, ystart, ystop, pix_per_cell, orient, cell_per_block, spatial_size, hist_bins, classifier)\u001b[0m\n\u001b[1;32m    190\u001b[0m \u001b[0;34m\u001b[0m\u001b[0m\n\u001b[1;32m    191\u001b[0m             \u001b[0;31m# Scale features and make a prediction\u001b[0m\u001b[0;34m\u001b[0m\u001b[0;34m\u001b[0m\u001b[0m\n\u001b[0;32m--> 192\u001b[0;31m             test_features = X_scaler.transform(\n\u001b[0m\u001b[1;32m    193\u001b[0m                 np.hstack((spatial_features, hist_features, hog_features)).reshape(1, -1))\n\u001b[1;32m    194\u001b[0m             \u001b[0mtest_prediction\u001b[0m \u001b[0;34m=\u001b[0m \u001b[0mclassifier\u001b[0m\u001b[0;34m.\u001b[0m\u001b[0mpredict\u001b[0m\u001b[0;34m(\u001b[0m\u001b[0;34m(\u001b[0m\u001b[0mtest_features\u001b[0m\u001b[0;34m)\u001b[0m\u001b[0;34m)\u001b[0m\u001b[0;34m\u001b[0m\u001b[0m\n",
      "\u001b[0;31mNameError\u001b[0m: name 'X_scaler' is not defined"
     ]
    }
   ],
   "source": [
    "# =====\n",
    "# Test script below\n",
    "out_images = []\n",
    "out_maps = []\n",
    "out_titles = []\n",
    "out_boxes = []\n",
    "\n",
    "# Consider a narrower swath in y\n",
    "ystart = 400\n",
    "ystop = 656\n",
    "# scale = 1  # scale entire image, apply HOG to entire image\n",
    "scale = 1.5\n",
    "\n",
    "# Iterate over test images\n",
    "for img_src in example_images:\n",
    "    img = mpimg.imread(img_src)\n",
    "    \n",
    "    t1 = time.time()\n",
    "    draw_img, img_boxes, heatmap = search.find_cars(img, scale, ystart, ystop, pix_per_cell, orient, cell_per_block, \n",
    "                                                    spatial_size, hist_bins, X_scaler, svc)\n",
    "    print(time.time() - t, 'seconds to run, total windows = ', count)\n",
    "\n",
    "    out_images.append(draw_img)\n",
    "\n",
    "    out_titles.append(img_src[-12:])\n",
    "    out_titles.append(img_src[-12:])\n",
    "\n",
    "    out_images.append(heatmap)\n",
    "    out_maps.append(heatmap)\n",
    "    out_boxes.append(img_boxes)\n",
    "\n",
    "fig = plt.figure(figsize=(12, 24))\n",
    "viz.visualize(8, 2, out_images, ystart, ystop, out_titles)\n",
    "print(time.time() - t, 'seconds to run, total windows = ', count)"
   ]
  },
  {
   "cell_type": "code",
   "execution_count": null,
   "metadata": {
    "collapsed": true
   },
   "outputs": [],
   "source": [
    "# =====\n",
    "# Set Region Of Interest and Scale window inspection technique.\n",
    "ystart = 400\n",
    "ystop = 656\n",
    "scale = 1.5\n",
    "\n",
    "# Load Linear SVC Classifier\n",
    "dist_pickle = pickle.load(open(\"svc_pickle.p\", \"rb\"))\n",
    "svc = dist_pickle[\"svc\"]\n",
    "X_scaler = dist_pickle[\"X_scaler\"]\n",
    "orient = dist_pickle[\"orient\"]\n",
    "pix_per_cell = dist_pickle[\"pix_per_cell\"]\n",
    "cell_per_block = dist_pickle[\"cell_per_block\"]\n",
    "spatial_size = dist_pickle[\"spatial_size\"]\n",
    "hist_bins = dist_pickle[\"hist_bins\"]"
   ]
  },
  {
   "cell_type": "code",
   "execution_count": null,
   "metadata": {
    "collapsed": true
   },
   "outputs": [],
   "source": [
    "out_images = []\n",
    "out_maps = []\n",
    "scale = 1.5\n",
    "# Iterate over test images\n",
    "for img_src in example_images:\n",
    "    img = mpimg.imread(img_src)\n",
    "    \n",
    "    out_img, out_boxes, heat_map = search.find_cars(img, scale, pix_per_cell, svc)\n",
    "    labels = label(heat_map)\n",
    "    # Draw bounding boxes on a copy of the image\n",
    "    draw_img = viz.draw_labeled_bboxes(np.copy(img), labels)\n",
    "    out_images.append(draw_img)\n",
    "    out_images.append(heat_map)\n",
    "\n",
    "fig = plt.figure(figsize=(12, 24))\n",
    "viz.visualize(8, 2, out_images, out_titles)\n",
    "\n",
    "# save pickle\n",
    "dist_pickle = out_boxes\n",
    "pickle.dump(dist_pickle, open(\"bbox_pickle.p\", \"wb\"))"
   ]
  },
  {
   "cell_type": "code",
   "execution_count": null,
   "metadata": {
    "collapsed": true
   },
   "outputs": [],
   "source": [
    "# =====\n",
    "# Read in a pickle file with bboxes saved\n",
    "# Each item in the \"all_bboxes\" list will contain a\n",
    "# list of boxes for one of the images shown above\n",
    "box_list = pickle.load(open(\"bbox_pickle.p\", \"rb\"))\n",
    "\n",
    "# Read in image similar to one shown above\n",
    "image = mpimg.imread('CarND-Vehicle-Detection-master/test_images/test3.jpg')\n",
    "heat = np.zeros_like(image[:, :, 0]).astype(np.float)\n",
    "\n",
    "# Add heat to each box in box list\n",
    "heat = add_heat(heat, box_list)\n",
    "\n",
    "# Apply threshold to help remove false positives\n",
    "heat = apply_threshold(heat, 1)  # shows far-left + far-right false positives\n",
    "# heat = apply_threshold(heat, 2)  # shows          far-right false positive\n",
    "# heat = apply_threshold(heat, 57)  # shows                no false positives, but unacceptable bounding box!\n",
    "\n",
    "# Visualize the heatmap when displaying\n",
    "heatmap = np.clip(heat, 0, 255)\n",
    "\n",
    "# Find final boxes from heatmap using label function\n",
    "labels = label(heatmap)\n",
    "draw_img = draw_labeled_bboxes(np.copy(image), labels)\n",
    "\n",
    "fig = plt.figure()\n",
    "plt.subplot(121)\n",
    "plt.imshow(draw_img)\n",
    "plt.title('Car Positions Thresholded')\n",
    "plt.subplot(122)\n",
    "plt.imshow(heatmap, cmap='hot')\n",
    "plt.title('Heat Map Thresholded')\n",
    "fig.tight_layout()\n"
   ]
  },
  {
   "cell_type": "code",
   "execution_count": null,
   "metadata": {
    "collapsed": true
   },
   "outputs": [],
   "source": [
    "# =====\n",
    "# TODO\n",
    "# Instead of just processing single frames like above, in the project you really want to integrate that heatmap\n",
    "# (above, above) over 5 to 10 frames and then the cars should stand out brightly against a background of a\n",
    "# few false-positives and you can then threshold (above) that and get a nice clean box around actual cars and\n",
    "# reject false-positives.\n",
    "# See heat_threshold_bounding_box.py for example on how to do this\n",
    "\n",
    "# =====\n",
    "def process_image(img):\n",
    "    \"\"\"\n",
    "    Image processing pipeline called during video stream of frames\n",
    "    :param img: frame from video\n",
    "    :return: image with heatmap and bounding box detections\n",
    "    \"\"\"\n",
    "    avg_heat = np.zeros_like(image[:, :, 0]).astype(np.float)\n",
    "    out_img, out_boxes, heat_map = search.find_cars(img, scale)\n",
    "\n",
    "    # -----\n",
    "    heat = np.zeros_like(image[:, :, 0]).astype(np.float)\n",
    "    # Add heat to each box in box list\n",
    "    heat = detection.add_heat(heat, out_boxes)\n",
    "\n",
    "    # Apply threshold to help remove false positives\n",
    "    heat = apply_threshold(heat, 1)\n",
    "    # heat = apply_threshold(heat, 2)\n",
    "\n",
    "    avg_heat = cv2.addWeighted(avg_heat, 0.8, heat, 0.2, 0.)\n",
    "\n",
    "    # Apply threshold to help remove near-zero noise\n",
    "    heatmap = apply_threshold(cv2.blur(avg_heat, (15, 15)), 0.5)\n",
    "\n",
    "    # Visualize the heatmap when displaying\n",
    "    heatmap = np.clip(heatmap, 0, 255)  # limit the values in the heatmap array\n",
    "\n",
    "    # -----\n",
    "    # Find final boxes from heatmap using label function\n",
    "    labels = label(heat_map)\n",
    "    # Draw bounding boxes on a copy of the image\n",
    "    output_img = draw_labeled_bboxes(np.copy(img), labels)\n",
    "\n",
    "    # -----\n",
    "    r = 377.0 / avg_heat.shape[1]  # calculate height\n",
    "    dim = (377, int(avg_heat.shape[0] * r))  # width, height\n",
    "    resized = cv2.resize(avg_heat, dim, interpolation=cv2.INTER_AREA)\n",
    "    # add to output_img\n",
    "    output_img[0:0 + resized.shape[0], 0:0 + resized.shape[1]] = np.repeat(resized[:, :, np.newaxis], 3,\n",
    "                                                                           axis=2) * 255\n",
    "    output_img = cv2.putText(output_img, \"Heatmap\", (34, 34), cv2.FONT_HERSHEY_SIMPLEX, 0.5, (255, 0, 0), 2,\n",
    "                             cv2.LINE_AA)\n",
    "\n",
    "    # -----\n",
    "    return output_img\n",
    "\n",
    "\n",
    "\n"
   ]
  },
  {
   "cell_type": "code",
   "execution_count": null,
   "metadata": {
    "collapsed": true
   },
   "outputs": [],
   "source": [
    "# Add Heatmap indicator\n",
    "img_test = mpimg.imread('CarND-Vehicle-Detection-master/test_images/test3.jpg')\n",
    "\n",
    "output_process = process_image(img_test)\n",
    "plt.imshow(output_process)\n"
   ]
  },
  {
   "cell_type": "code",
   "execution_count": null,
   "metadata": {
    "collapsed": true
   },
   "outputs": [],
   "source": [
    "# Import everything needed to edit / save / watch video clips\n",
    "from moviepy.editor import VideoFileClip\n",
    "from IPython.display import HTML\n",
    "\n",
    "# output = 'CarND-Vehicle-Detection-master/output_images/test_output_project_video.mp4'\n",
    "output = 'CarND-Vehicle-Detection-master/output_images/final_output_project_video.mp4'\n",
    "# clip = VideoFileClip(\"CarND-Vehicle-Detection-master/test_video.mp4\")\n",
    "clip = VideoFileClip(\"CarND-Vehicle-Detection-master/project_video.mp4\")\n",
    "test_clip = clip.fl_image(process_image)\n",
    "# %time\n",
    "test_clip.write_videofile(output, audio=False)\n",
    "\n",
    "HTML(\"\"\"\n",
    "<video width=\"960\" height=\"540\" controls>\n",
    "    <source src=\"{0}\">\n",
    "</video>\n",
    "\"\"\".format(output))"
   ]
  }
 ],
 "metadata": {
  "kernelspec": {
   "display_name": "Python 3",
   "language": "python",
   "name": "python3"
  },
  "language_info": {
   "codemirror_mode": {
    "name": "ipython",
    "version": 3
   },
   "file_extension": ".py",
   "mimetype": "text/x-python",
   "name": "python",
   "nbconvert_exporter": "python",
   "pygments_lexer": "ipython3",
   "version": "3.6.1"
  }
 },
 "nbformat": 4,
 "nbformat_minor": 2
}
